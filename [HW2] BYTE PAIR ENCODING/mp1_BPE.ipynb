{
 "cells": [
  {
   "cell_type": "markdown",
   "metadata": {},
   "source": [
    "# MP1: BYTE PAIR ENCODING\n",
    "## Submitted by: Juachon, Jean Philip L. (12083496)"
   ]
  },
  {
   "cell_type": "code",
   "execution_count": 1,
   "metadata": {},
   "outputs": [],
   "source": [
    "#import the library\n",
    "from bpemb import BPEmb\n",
    "bpemb_tl = BPEmb(lang = \"tl\", vs = 10000, dim = 300) #set vocabulary size to 10,000 and dimensions to 300"
   ]
  },
  {
   "cell_type": "code",
   "execution_count": 2,
   "metadata": {},
   "outputs": [
    {
     "data": {
      "text/plain": [
       "<gensim.models.keyedvectors.KeyedVectors at 0x7f81586e9ed0>"
      ]
     },
     "execution_count": 2,
     "metadata": {},
     "output_type": "execute_result"
    }
   ],
   "source": [
    "bpemb_tl.emb"
   ]
  },
  {
   "cell_type": "code",
   "execution_count": 3,
   "metadata": {},
   "outputs": [
    {
     "data": {
      "text/plain": [
       "[('▁patimpalak', 0.6610562205314636),\n",
       " ('reyna', 0.5789141654968262),\n",
       " ('▁nanalo', 0.40153196454048157),\n",
       " ('▁kilalang', 0.3779382109642029),\n",
       " ('▁anghel', 0.3223453760147095),\n",
       " ('▁kalusugan', 0.3222472369670868),\n",
       " ('▁pilipinas', 0.29742032289505005),\n",
       " ('▁karangalan', 0.2955053448677063),\n",
       " ('▁likas', 0.29104721546173096),\n",
       " ('▁host', 0.2897968590259552)]"
      ]
     },
     "execution_count": 3,
     "metadata": {},
     "output_type": "execute_result"
    }
   ],
   "source": [
    "bpemb_tl.most_similar(bpemb_tl.encode(\"kagandahan\"))"
   ]
  },
  {
   "cell_type": "code",
   "execution_count": 4,
   "metadata": {},
   "outputs": [
    {
     "data": {
      "text/plain": [
       "[('▁sanda', 0.42032358050346375),\n",
       " ('lingan', 0.38719937205314636),\n",
       " ('▁kaibigan', 0.3487645983695984),\n",
       " ('mbi', 0.3459661602973938),\n",
       " ('pun', 0.3354654610157013),\n",
       " ('unga', 0.3213435411453247),\n",
       " ('▁limi', 0.3149784505367279),\n",
       " ('▁asawa', 0.3118269145488739),\n",
       " ('lili', 0.2897605001926422),\n",
       " ('▁pun', 0.2752463221549988)]"
      ]
     },
     "execution_count": 4,
     "metadata": {},
     "output_type": "execute_result"
    }
   ],
   "source": [
    "bpemb_tl.most_similar(bpemb_tl.encode(\"kasintahan\"))"
   ]
  },
  {
   "cell_type": "code",
   "execution_count": 5,
   "metadata": {},
   "outputs": [
    {
     "data": {
      "text/plain": [
       "[('aaralan', 0.38834348320961),\n",
       " ('▁mapag', 0.36394619941711426),\n",
       " ('kunan', 0.3286280930042267),\n",
       " ('▁napag', 0.30512624979019165),\n",
       " ('sanib', 0.304129034280777),\n",
       " ('kukunan', 0.28864216804504395),\n",
       " ('kuran', 0.28255900740623474),\n",
       " ('pasya', 0.27607423067092896),\n",
       " ('lunan', 0.27404335141181946),\n",
       " ('lagay', 0.2674868106842041)]"
      ]
     },
     "execution_count": 5,
     "metadata": {},
     "output_type": "execute_result"
    }
   ],
   "source": [
    "bpemb_tl.most_similar(bpemb_tl.encode(\"pinagprituhan\"))"
   ]
  },
  {
   "cell_type": "code",
   "execution_count": 6,
   "metadata": {},
   "outputs": [
    {
     "data": {
      "text/plain": [
       "[('▁malu', 0.3785698115825653),\n",
       " ('pirit', 0.3728918433189392),\n",
       " ('▁paglu', 0.337922066450119),\n",
       " ('▁pagda', 0.3334289491176605),\n",
       " ('lu', 0.3295641839504242),\n",
       " ('▁lu', 0.3187568783760071),\n",
       " ('▁espiritu', 0.3052479326725006),\n",
       " ('ulu', 0.2874179780483246),\n",
       " ('▁diyos', 0.28604450821876526),\n",
       " ('▁ka', 0.27606600522994995)]"
      ]
     },
     "execution_count": 6,
     "metadata": {},
     "output_type": "execute_result"
    }
   ],
   "source": [
    "bpemb_tl.most_similar(bpemb_tl.encode(\"kaluwalhatian\"))"
   ]
  },
  {
   "cell_type": "code",
   "execution_count": 7,
   "metadata": {},
   "outputs": [
    {
     "data": {
      "text/plain": [
       "[('▁kasunduang', 0.4246227741241455),\n",
       " ('▁kaayusan', 0.42337659001350403),\n",
       " ('▁pagpapanatili', 0.42105239629745483),\n",
       " ('yapaan', 0.4030686020851135),\n",
       " ('▁kasunduan', 0.4020146429538727),\n",
       " ('▁katarungan', 0.40071964263916016),\n",
       " ('▁digmaan', 0.3999422788619995),\n",
       " ('▁pagkakaisa', 0.3641497492790222),\n",
       " ('▁kaligtasan', 0.3524089455604553),\n",
       " ('natili', 0.34908100962638855)]"
      ]
     },
     "execution_count": 7,
     "metadata": {},
     "output_type": "execute_result"
    }
   ],
   "source": [
    "bpemb_tl.most_similar(bpemb_tl.encode(\"kapayapaan\"))"
   ]
  },
  {
   "cell_type": "markdown",
   "metadata": {},
   "source": [
    "# Conclusion\n",
    "Based on the results above for the following words:<br>\n",
    "a) kagandahan <br>\n",
    "b) kasintahan <br>\n",
    "c) pinagprituhan <br>\n",
    "d) kaluwalhatian <br>\n",
    "e) kapayapaan <br>\n",
    "<br>\n",
    "There are words that have results with meaningful similarities while others do not. However, it is good enough for most cases. For example, for the first word \"kagandahan\", it was able to detect similar words with regards or is related to beauty such as \"reyna\"(queen), \"anghel\"(angel), and even the location \"pilipinas\"(Philippines), for the second word \"kasintahan\", it was also able to find the similar words with regards to relationship such as \"kaibigan\"(friend), \"asawa\"(spouse), however, it was also found subwords with regards to location such as \"pun\"(punta-han; location), verbs such as \"mbi-tahan\"(invite). Other than that, it was also able to relate the third word \"pinagprituhan\" to a location, with \"aaralan\" (place for studying) as it's most similar word. It was also successful in identifying similar words with regards to \"luwalhati\" which are \"espiritu\", and \"diyos\". Lastly, for the word \"kapayapaan\", it was also able to able to find words with regards to peace, war, and understanding or agreement. The algorithm was also able to detect and differentiate the affixes \"ka-\", \"-han\", and \"-an\" which usually refers to a state, location, and verb. Furthermore, there are also subwords that are totally not related to the input words. This happens probably because of the vocabulary size which is 10,000 only, as the vocabulary size equates to the sum of the number of BPE merge operations and the number of characters in the training data. Thus, if the vocabulary size is small, then the number of the merge operations will also be small, with this logic, a small vocabulary size will produce a smaller n-gram (e.g. unigram, bigram, etc.) while a bigger vocabulary size will create more merge operations thus, resulting into better encoding/representation of the words especially if the base form of the word is long.\n",
    "\n",
    "Reference(s):<br>\n",
    "Heinzerling, B., & Strube, M. (n.d.). BPEmb: Tokenization-free Pre-trained Subword Embeddings in 275 Languages. LREC Conferences. Retrieved July 11, 2021, from https://www.lrec-conf.org/proceedings/lrec2018/pdf/1049.pdf"
   ]
  }
 ],
 "metadata": {
  "kernelspec": {
   "display_name": "Python 3",
   "language": "python",
   "name": "python3"
  },
  "language_info": {
   "codemirror_mode": {
    "name": "ipython",
    "version": 3
   },
   "file_extension": ".py",
   "mimetype": "text/x-python",
   "name": "python",
   "nbconvert_exporter": "python",
   "pygments_lexer": "ipython3",
   "version": "3.7.4"
  }
 },
 "nbformat": 4,
 "nbformat_minor": 4
}
