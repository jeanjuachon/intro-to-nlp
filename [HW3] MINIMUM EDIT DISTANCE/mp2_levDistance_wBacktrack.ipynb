{
 "cells": [
  {
   "cell_type": "markdown",
   "metadata": {},
   "source": [
    "# MP2: Minimum Edit Distance\n",
    "## Submitted by: Juachon, Jean Philip L. (12083496)"
   ]
  },
  {
   "cell_type": "code",
   "execution_count": 113,
   "metadata": {},
   "outputs": [],
   "source": [
    "def levDist(word1, word2):\n",
    "    m = len(word1) #for x axis\n",
    "    n = len(word2) #for y axis\n",
    "    table = np.zeros((m + 1, n + 1), dtype = \"int64\") #initialize an matrix of 0s based on m + 1 * n + 1 (for the null string)\n",
    "\n",
    "    for i in range(m + 1):\n",
    "        table[i][0] = i \n",
    "    for j in range(n + 1):\n",
    "        table[0][j] = j \n",
    "    for i in range(1, m + 1):\n",
    "        for j in range(1, n + 1):\n",
    "            if word1[i - 1] == word2[j - 1]: #if the letters on strings are equal\n",
    "                table[i][j] = table[i - 1][j - 1] #get the diagonal distance which in this case, is 0 at first\n",
    "            else:\n",
    "                table[i][j] = 1 + min(table[i - 1][j], table[i][j - 1], 1+table[i - 1][j - 1])\n",
    "    return table[-1][-1], table"
   ]
  },
  {
   "cell_type": "code",
   "execution_count": 127,
   "metadata": {},
   "outputs": [
    {
     "name": "stdout",
     "output_type": "stream",
     "text": [
      "Minimum edit distance is: 8\n",
      "\n",
      "For easier coding, table was set up in a standard way\n",
      "[[ 0  1  2  3  4  5  6  7  8  9]\n",
      " [ 1  2  3  4  5  6  7  6  7  8]\n",
      " [ 2  3  4  5  6  7  8  7  8  7]\n",
      " [ 3  4  5  6  7  8  7  8  9  8]\n",
      " [ 4  3  4  5  6  7  8  9 10  9]\n",
      " [ 5  4  5  6  7  8  9 10 11 10]\n",
      " [ 6  5  6  7  8  9  8  9 10 11]\n",
      " [ 7  6  7  8  9 10  9  8  9 10]\n",
      " [ 8  7  8  9 10 11 10  9  8  9]\n",
      " [ 9  8  9 10 11 12 11 10  9  8]]\n",
      "\n",
      "\n",
      "If basing on the lecture, table is:\n",
      "[[ 9  8  9 10 11 12 11 10  9  8]\n",
      " [ 8  7  8  9 10 11 10  9  8  9]\n",
      " [ 7  6  7  8  9 10  9  8  9 10]\n",
      " [ 6  5  6  7  8  9  8  9 10 11]\n",
      " [ 5  4  5  6  7  8  9 10 11 10]\n",
      " [ 4  3  4  5  6  7  8  9 10  9]\n",
      " [ 3  4  5  6  7  8  7  8  9  8]\n",
      " [ 2  3  4  5  6  7  8  7  8  7]\n",
      " [ 1  2  3  4  5  6  7  6  7  8]\n",
      " [ 0  1  2  3  4  5  6  7  8  9]]\n",
      "Either table structure, the results will be the same as the algorithm relies on the left, right, diagonal and string values\n"
     ]
    }
   ],
   "source": [
    "distance, table = levDist(\"intention\", \"execution\")\n",
    "print(f\"Minimum edit distance is: {distance}\", end = \"\\n\\n\")\n",
    "print(\"For easier coding, table was set up in a standard way\")\n",
    "print(table, end = \"\\n\\n\\n\")\n",
    "\n",
    "print(\"If basing on the lecture, table is:\")\n",
    "print(np.flipud(table))\n",
    "print(\"Either table structure, the results will be the same as the algorithm relies on the left, right, diagonal and string values\")"
   ]
  },
  {
   "cell_type": "code",
   "execution_count": 130,
   "metadata": {},
   "outputs": [],
   "source": [
    "def backtrack(D, str1, str2):\n",
    "    i = len(D) - 1\n",
    "    j = len(D[0]) - 1\n",
    "    print(f\"String 1: {i}, String 2: {j}\")\n",
    "\n",
    "    operations = []\n",
    "    while i != 0 or j != 0:\n",
    "        diagonal = D[i-1,j-1] # Match \n",
    "        up = D[i-1,j]       # Delete\n",
    "        left = D[i,j-1]     # Insert\n",
    "\n",
    "# if diagonal < left and diagonal < up and str1[i-1] != str2[j-1]:\n",
    "#   operations.append([str1[i-1], \"S\", str2[j-1]])\n",
    "#   i -= 1\n",
    "#   j -= 1\n",
    "\n",
    "    # highest priority, insertion\n",
    "    if up < left and up < diagonal: \n",
    "        operations.append([str1[i-1], \"D\", \"-\"])\n",
    "        i -= 1 \n",
    "    elif left < diagonal: \n",
    "        operations.append([\"-\", \"I\", str2[j-1]])\n",
    "        j -= 1\n",
    "    else:\n",
    "        if str1[i-1] == str2[j-1]:\n",
    "            operations.append([str1[i-1], \"|\", str2[j-1]])\n",
    "        else:  \n",
    "            operations.append([str1[i-1], \"S\", str2[j-1]])\n",
    "\n",
    "    i -= 1\n",
    "    j -= 1\n",
    "\n",
    "    return operations"
   ]
  },
  {
   "cell_type": "code",
   "execution_count": null,
   "metadata": {},
   "outputs": [],
   "source": [
    "a = backtrack(table, \"intention\", \"execution\")"
   ]
  },
  {
   "cell_type": "code",
   "execution_count": null,
   "metadata": {},
   "outputs": [],
   "source": [
    "a"
   ]
  },
  {
   "cell_type": "code",
   "execution_count": null,
   "metadata": {},
   "outputs": [],
   "source": []
  }
 ],
 "metadata": {
  "kernelspec": {
   "display_name": "Python 3",
   "language": "python",
   "name": "python3"
  },
  "language_info": {
   "codemirror_mode": {
    "name": "ipython",
    "version": 3
   },
   "file_extension": ".py",
   "mimetype": "text/x-python",
   "name": "python",
   "nbconvert_exporter": "python",
   "pygments_lexer": "ipython3",
   "version": "3.7.4"
  }
 },
 "nbformat": 4,
 "nbformat_minor": 4
}
