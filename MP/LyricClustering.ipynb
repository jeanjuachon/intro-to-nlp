{
 "cells": [
  {
   "cell_type": "code",
   "execution_count": 1,
   "id": "d9b7f173-28d4-4539-9820-069d739ff55c",
   "metadata": {},
   "outputs": [],
   "source": [
    "import numpy as np\n",
    "import pandas as pd\n",
    "import sklearn"
   ]
  },
  {
   "cell_type": "code",
   "execution_count": 2,
   "id": "ef9a94fb-f1a1-47fe-900f-d8bcede375a6",
   "metadata": {},
   "outputs": [],
   "source": [
    "df = pd.read_csv(\"/Users/philip/Desktop/intro-to-nlp/MP/lyrics.csv\")"
   ]
  },
  {
   "cell_type": "code",
   "execution_count": 3,
   "id": "1b995352-ade6-4379-88cb-58c37cfbb361",
   "metadata": {},
   "outputs": [
    {
     "data": {
      "text/html": [
       "<div>\n",
       "<style scoped>\n",
       "    .dataframe tbody tr th:only-of-type {\n",
       "        vertical-align: middle;\n",
       "    }\n",
       "\n",
       "    .dataframe tbody tr th {\n",
       "        vertical-align: top;\n",
       "    }\n",
       "\n",
       "    .dataframe thead th {\n",
       "        text-align: right;\n",
       "    }\n",
       "</style>\n",
       "<table border=\"1\" class=\"dataframe\">\n",
       "  <thead>\n",
       "    <tr style=\"text-align: right;\">\n",
       "      <th></th>\n",
       "      <th>artist</th>\n",
       "      <th>song</th>\n",
       "      <th>lyrics</th>\n",
       "      <th>genre</th>\n",
       "      <th>lyric_count</th>\n",
       "      <th>lyric_count_norm</th>\n",
       "    </tr>\n",
       "  </thead>\n",
       "  <tbody>\n",
       "    <tr>\n",
       "      <th>0</th>\n",
       "      <td>Katy Perry</td>\n",
       "      <td>The One That Got Away acoustic</td>\n",
       "      <td>summer after high school, when we first met we...</td>\n",
       "      <td>pop</td>\n",
       "      <td>221</td>\n",
       "      <td>7.489217</td>\n",
       "    </tr>\n",
       "    <tr>\n",
       "      <th>1</th>\n",
       "      <td>Katy Perry</td>\n",
       "      <td>Who Am I Living For</td>\n",
       "      <td>yeah, yeah, yeah i can feel a phoenix inside o...</td>\n",
       "      <td>pop</td>\n",
       "      <td>190</td>\n",
       "      <td>6.438694</td>\n",
       "    </tr>\n",
       "    <tr>\n",
       "      <th>2</th>\n",
       "      <td>Katy Perry</td>\n",
       "      <td>Daisies</td>\n",
       "      <td>told them your dreams and they all started lau...</td>\n",
       "      <td>pop</td>\n",
       "      <td>157</td>\n",
       "      <td>5.320394</td>\n",
       "    </tr>\n",
       "    <tr>\n",
       "      <th>3</th>\n",
       "      <td>Katy Perry</td>\n",
       "      <td>Witness</td>\n",
       "      <td>if i lost it all today, would you stay? could ...</td>\n",
       "      <td>pop</td>\n",
       "      <td>233</td>\n",
       "      <td>7.895872</td>\n",
       "    </tr>\n",
       "    <tr>\n",
       "      <th>4</th>\n",
       "      <td>Katy Perry</td>\n",
       "      <td>Starstrukk</td>\n",
       "      <td>nice legs, daisy dukes makes a man go that is ...</td>\n",
       "      <td>pop</td>\n",
       "      <td>171</td>\n",
       "      <td>5.794824</td>\n",
       "    </tr>\n",
       "  </tbody>\n",
       "</table>\n",
       "</div>"
      ],
      "text/plain": [
       "       artist                            song  \\\n",
       "0  Katy Perry  The One That Got Away acoustic   \n",
       "1  Katy Perry             Who Am I Living For   \n",
       "2  Katy Perry                         Daisies   \n",
       "3  Katy Perry                         Witness   \n",
       "4  Katy Perry                      Starstrukk   \n",
       "\n",
       "                                              lyrics genre  lyric_count  \\\n",
       "0  summer after high school, when we first met we...   pop          221   \n",
       "1  yeah, yeah, yeah i can feel a phoenix inside o...   pop          190   \n",
       "2  told them your dreams and they all started lau...   pop          157   \n",
       "3  if i lost it all today, would you stay? could ...   pop          233   \n",
       "4  nice legs, daisy dukes makes a man go that is ...   pop          171   \n",
       "\n",
       "   lyric_count_norm  \n",
       "0          7.489217  \n",
       "1          6.438694  \n",
       "2          5.320394  \n",
       "3          7.895872  \n",
       "4          5.794824  "
      ]
     },
     "execution_count": 3,
     "metadata": {},
     "output_type": "execute_result"
    }
   ],
   "source": [
    "df.head()"
   ]
  },
  {
   "cell_type": "code",
   "execution_count": null,
   "id": "c9f0b742-d7fe-4af0-8dc3-ec1cb24dd42e",
   "metadata": {},
   "outputs": [],
   "source": []
  },
  {
   "cell_type": "code",
   "execution_count": null,
   "id": "3baddf5d-cc62-4f48-81f0-6a70b4198813",
   "metadata": {},
   "outputs": [],
   "source": []
  }
 ],
 "metadata": {
  "kernelspec": {
   "display_name": "Python 3 (ipykernel)",
   "language": "python",
   "name": "python3"
  },
  "language_info": {
   "codemirror_mode": {
    "name": "ipython",
    "version": 3
   },
   "file_extension": ".py",
   "mimetype": "text/x-python",
   "name": "python",
   "nbconvert_exporter": "python",
   "pygments_lexer": "ipython3",
   "version": "3.7.4"
  }
 },
 "nbformat": 4,
 "nbformat_minor": 5
}
