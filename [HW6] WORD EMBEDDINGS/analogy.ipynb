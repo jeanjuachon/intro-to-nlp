{
 "cells": [
  {
   "cell_type": "code",
   "execution_count": 1,
   "metadata": {},
   "outputs": [],
   "source": [
    "import gensim\n",
    "from gensim.models import KeyedVectors\n",
    "\n",
    "from gensim.models import Word2Vec, FastText"
   ]
  },
  {
   "cell_type": "code",
   "execution_count": 2,
   "metadata": {},
   "outputs": [
    {
     "name": "stderr",
     "output_type": "stream",
     "text": [
      "/Users/philip/opt/anaconda3/lib/python3.7/site-packages/ipykernel_launcher.py:3: DeprecationWarning: Call to deprecated `load_fasttext_format` (use load_facebook_vectors (to use pretrained embeddings) or load_facebook_model (to continue training with the loaded full model, more RAM) instead).\n",
      "  This is separate from the ipykernel package so we can avoid doing imports until\n"
     ]
    }
   ],
   "source": [
    "# model = KeyedVectors.load_word2vec_format(\"tlf.bin\", binary=True)\n",
    "model1 = Word2Vec.load(\"tl.bin\")\n",
    "model2 = FastText.load_fasttext_format(\"tlf.bin\")"
   ]
  },
  {
   "cell_type": "code",
   "execution_count": 3,
   "metadata": {},
   "outputs": [
    {
     "data": {
      "text/plain": [
       "[('mabuti', 0.808869481086731),\n",
       " ('pangit', 0.7968887090682983),\n",
       " ('masaya', 0.7858861684799194),\n",
       " ('madali', 0.7803130149841309),\n",
       " ('interesado', 0.7730611562728882),\n",
       " ('marunong', 0.7545205950737),\n",
       " ('gusto', 0.7341607213020325),\n",
       " ('akin', 0.73003751039505),\n",
       " ('mahirap', 0.7257866263389587),\n",
       " ('masama', 0.7256185412406921)]"
      ]
     },
     "execution_count": 3,
     "metadata": {},
     "output_type": "execute_result"
    }
   ],
   "source": [
    "model1.wv.most_similar(\"maganda\")"
   ]
  },
  {
   "cell_type": "code",
   "execution_count": 4,
   "metadata": {},
   "outputs": [
    {
     "data": {
      "text/plain": [
       "[('magandang', 0.8559143543243408),\n",
       " ('magagandang', 0.6824883222579956),\n",
       " ('ganda', 0.6766018271446228),\n",
       " ('akala', 0.5986294746398926),\n",
       " ('masyadong', 0.5943304300308228),\n",
       " ('mabait', 0.5927068591117859),\n",
       " ('madali', 0.5887677669525146),\n",
       " ('mahilig', 0.5875184535980225),\n",
       " ('mabuti', 0.5855509042739868),\n",
       " ('ganoon', 0.5821709632873535)]"
      ]
     },
     "execution_count": 4,
     "metadata": {},
     "output_type": "execute_result"
    }
   ],
   "source": [
    "(model2.wv.most_similar(\"maganda\"))"
   ]
  },
  {
   "cell_type": "code",
   "execution_count": 5,
   "metadata": {},
   "outputs": [],
   "source": [
    "def pp(obj):\n",
    "    print(pd.DataFrame(obj))\n",
    "    \n",
    "def analogy1(worda, wordb, wordc):\n",
    "    result = model1.wv.most_similar(negative=[worda], \n",
    "                                positive=[wordb, wordc])\n",
    "    return result[0][0]\n",
    "\n",
    "def analogy2(worda, wordb, wordc):\n",
    "    result = model2.wv.most_similar(negative=[worda], \n",
    "                                positive=[wordb, wordc])\n",
    "    return result[0][0]"
   ]
  },
  {
   "cell_type": "code",
   "execution_count": 6,
   "metadata": {},
   "outputs": [
    {
     "data": {
      "text/plain": [
       "[('mabuti', 0.808869481086731),\n",
       " ('pangit', 0.7968887090682983),\n",
       " ('masaya', 0.7858861684799194),\n",
       " ('madali', 0.7803130149841309),\n",
       " ('interesado', 0.7730611562728882),\n",
       " ('marunong', 0.7545205950737),\n",
       " ('gusto', 0.7341607213020325),\n",
       " ('akin', 0.73003751039505),\n",
       " ('mahirap', 0.7257866263389587),\n",
       " ('masama', 0.7256185412406921)]"
      ]
     },
     "execution_count": 6,
     "metadata": {},
     "output_type": "execute_result"
    }
   ],
   "source": [
    "model1.wv.most_similar(positive = \"maganda\")"
   ]
  },
  {
   "cell_type": "code",
   "execution_count": 7,
   "metadata": {},
   "outputs": [
    {
     "data": {
      "text/plain": [
       "[('mabuti', 0.808869481086731),\n",
       " ('pangit', 0.7968887090682983),\n",
       " ('masaya', 0.7858861684799194),\n",
       " ('madali', 0.7803130149841309),\n",
       " ('interesado', 0.7730611562728882),\n",
       " ('marunong', 0.7545205950737),\n",
       " ('gusto', 0.7341607213020325),\n",
       " ('akin', 0.73003751039505),\n",
       " ('mahirap', 0.7257866263389587),\n",
       " ('masama', 0.7256185412406921)]"
      ]
     },
     "execution_count": 7,
     "metadata": {},
     "output_type": "execute_result"
    }
   ],
   "source": [
    "model1.wv.most_similar(positive = \"maganda\")"
   ]
  },
  {
   "cell_type": "code",
   "execution_count": 8,
   "metadata": {},
   "outputs": [
    {
     "data": {
      "text/plain": [
       "[('babae', 0.7392164468765259),\n",
       " ('babaeng', 0.707935094833374),\n",
       " ('batang', 0.6850568652153015),\n",
       " ('lalaking', 0.6792464256286621),\n",
       " ('ina', 0.6285486817359924),\n",
       " ('kapatid', 0.6119673252105713),\n",
       " ('nakatatandang', 0.6075147390365601),\n",
       " ('aktor', 0.6047272682189941),\n",
       " ('lalake', 0.598362386226654),\n",
       " ('pilipina', 0.5968809127807617)]"
      ]
     },
     "execution_count": 8,
     "metadata": {},
     "output_type": "execute_result"
    }
   ],
   "source": [
    "model1.wv.most_similar(positive=['lalaki','reyna'], negative = ['hari'])"
   ]
  },
  {
   "cell_type": "code",
   "execution_count": 17,
   "metadata": {},
   "outputs": [
    {
     "data": {
      "text/plain": [
       "'babae'"
      ]
     },
     "execution_count": 17,
     "metadata": {},
     "output_type": "execute_result"
    }
   ],
   "source": [
    "analogy1(\"hari\",\"lalaki\",\"reyna\")"
   ]
  },
  {
   "cell_type": "code",
   "execution_count": 22,
   "metadata": {},
   "outputs": [
    {
     "data": {
      "text/plain": [
       "'bundok'"
      ]
     },
     "execution_count": 22,
     "metadata": {},
     "output_type": "execute_result"
    }
   ],
   "source": [
    "analogy1(\"isda\",\"ilog\",\"ibon\")"
   ]
  },
  {
   "cell_type": "code",
   "execution_count": 18,
   "metadata": {},
   "outputs": [
    {
     "data": {
      "text/plain": [
       "'lola'"
      ]
     },
     "execution_count": 18,
     "metadata": {},
     "output_type": "execute_result"
    }
   ],
   "source": [
    "analogy1(\"tatay\",\"nanay\",\"lolo\")"
   ]
  },
  {
   "cell_type": "code",
   "execution_count": 20,
   "metadata": {},
   "outputs": [
    {
     "data": {
      "text/plain": [
       "'ilog'"
      ]
     },
     "execution_count": 20,
     "metadata": {},
     "output_type": "execute_result"
    }
   ],
   "source": [
    "analogy1(\"sasakyan\",\"lupa\",\"barko\")"
   ]
  },
  {
   "cell_type": "code",
   "execution_count": 32,
   "metadata": {},
   "outputs": [
    {
     "data": {
      "text/plain": [
       "'masasabing'"
      ]
     },
     "execution_count": 32,
     "metadata": {},
     "output_type": "execute_result"
    }
   ],
   "source": [
    "analogy1(\"ingles\",\"tagalog\",\"mayaman\")"
   ]
  },
  {
   "cell_type": "code",
   "execution_count": 27,
   "metadata": {},
   "outputs": [
    {
     "name": "stdout",
     "output_type": "stream",
     "text": [
      "      0     1\n",
      "0   aso  pusa\n",
      "1  pusa   aso\n"
     ]
    }
   ],
   "source": [
    "countries = ['aso', 'pusa']\n",
    "foods = [analogy1('hari', 'reyna', country) for country in countries]\n",
    "pp(zip(countries,foods))"
   ]
  },
  {
   "cell_type": "code",
   "execution_count": 28,
   "metadata": {},
   "outputs": [
    {
     "name": "stderr",
     "output_type": "stream",
     "text": [
      "/Users/philip/opt/anaconda3/lib/python3.7/site-packages/ipykernel_launcher.py:21: DeprecationWarning: Call to deprecated `__getitem__` (Method will be removed in 4.0.0, use self.wv.__getitem__() instead).\n"
     ]
    },
    {
     "data": {
      "image/png": "[encoded data removed]",
      "text/plain": [
       "<Figure size 700x500 with 1 Axes>"
      ]
     },
     "metadata": {
      "needs_background": "light"
     },
     "output_type": "display_data"
    }
   ],
   "source": [
    "from sklearn.decomposition import PCA\n",
    "import matplotlib.pyplot as plt\n",
    "import numpy as np\n",
    "import pandas as pd\n",
    "def plot_data(orig_data, labels):\n",
    "    pca = PCA(n_components=2)\n",
    "    data = pca.fit_transform(orig_data)\n",
    "    plt.figure(figsize=(7, 5), dpi=100)\n",
    "    plt.plot(data[:,0], data[:,1], '.')\n",
    "    for i in range(len(data)):\n",
    "        plt.annotate(labels[i], xy = data[i])\n",
    "    for i in range(len(data)//2):\n",
    "        plt.annotate(\"\",\n",
    "                xy=data[i],\n",
    "                xytext=data[i+len(data)//2],\n",
    "                arrowprops=dict(arrowstyle=\"->\",\n",
    "                                connectionstyle=\"arc3\")\n",
    "        )\n",
    "    \n",
    "labels = countries + foods\n",
    "data = [model1[w] for w in labels]\n",
    "plot_data(data, labels)"
   ]
  },
  {
   "cell_type": "code",
   "execution_count": null,
   "metadata": {},
   "outputs": [],
   "source": []
  },
  {
   "cell_type": "code",
   "execution_count": null,
   "metadata": {},
   "outputs": [],
   "source": [
    "                 "
   ]
  }
 ],
 "metadata": {
  "kernelspec": {
   "display_name": "Python 3",
   "language": "python",
   "name": "python3"
  },
  "language_info": {
   "codemirror_mode": {
    "name": "ipython",
    "version": 3
   },
   "file_extension": ".py",
   "mimetype": "text/x-python",
   "name": "python",
   "nbconvert_exporter": "python",
   "pygments_lexer": "ipython3",
   "version": "3.7.4"
  }
 },
 "nbformat": 4,
 "nbformat_minor": 4
}
