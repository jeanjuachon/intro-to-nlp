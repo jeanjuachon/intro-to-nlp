{
 "cells": [
  {
   "cell_type": "code",
   "execution_count": 43,
   "id": "34b9bcd9-8ec7-43f5-87b9-6022db15fe24",
   "metadata": {},
   "outputs": [],
   "source": [
    "#requests\n",
    "import requests\n",
    "import urllib\n",
    "import urllib.request\n",
    "from urllib.request import urlopen\n",
    "import urllib.parse\n",
    "import urllib.error\n",
    "from bs4 import BeautifulSoup\n",
    "from datetime import datetime\n",
    "import requests\n",
    "from urllib.request import urlopen, Request\n",
    "\n",
    "#data, strucuture and maths\n",
    "import pandas as pd\n",
    "import numpy as np\n",
    "import math\n",
    "import json\n",
    "import string\n",
    "from  more_itertools import unique_everseen\n",
    "import random\n",
    "\n",
    "#progress,performance and management\n",
    "from tqdm import tqdm_notebook\n",
    "import threading\n",
    "import os\n",
    "import ssl\n",
    "from IPython.display import clear_output\n",
    "import platform\n",
    "import os\n",
    "\n",
    "#time\n",
    "from time import sleep\n",
    "import time"
   ]
  },
  {
   "cell_type": "code",
   "execution_count": 44,
   "id": "1b8996c6-2ddc-4ba8-badb-7c29b8a5c5f4",
   "metadata": {},
   "outputs": [],
   "source": [
    "class MusixmatchScraper():\n",
    "    \n",
    "    \"\"\"This class allows you to scrape the lyrics for an artist who has a presence on Musixmatch\n",
    "    \n",
    "    An instance of the class needs to be instantiated with an artist URL e.g.\n",
    "    \n",
    "    https://www.musixmatch.com/artist/Bob-Dylan\n",
    "    \n",
    "    The default number of songs to scrape is 50\n",
    "    \n",
    "    Initiate scrape with self.Run()\n",
    "    \n",
    "    \"\"\"\n",
    "\n",
    "    def __init__(self,artist_url,genre_label):\n",
    "\n",
    "        self.artist_url = artist_url #artists URL as attribute\n",
    "        \n",
    "        self.artist = artist_url.split('artist/')[-1] #artist string as attribute\n",
    "        \n",
    "        self.genre_label = genre_label\n",
    "         \n",
    "        self.song_l = [] #empty list to populate lyrics\n",
    "                        \n",
    "    def _get_html(self,url):\n",
    "        \n",
    "        \"\"\"Uses Beatiful Soup to extract html from a url. Returns a soup object \"\"\"\n",
    "\n",
    "        headers = {'user-agent': 'Mozilla/5.0 (Macintosh; Intel Mac OS X 10_11_6) AppleWebKit/537.36 (KHTML, like Gecko) Chrome/56.0.2924.87 Safari/537.36'}\n",
    "\n",
    "        req = Request(url, headers=headers)\n",
    "\n",
    "        return BeautifulSoup(urlopen(req).read(), 'html.parser')\n",
    "\n",
    "    def _multithreadCompile(self,thread_count,iteration_list,func):\n",
    "        \n",
    "        \"\"\"a function that compiles an iteration list to prepare\n",
    "        multi threadding\"\"\"\n",
    "\n",
    "        jobs = []\n",
    "\n",
    "        #distribute iteration list to batches and append to jobs list\n",
    "        batches = [i.tolist() for i in np.array_split(iteration_list,thread_count)]\n",
    "\n",
    "        for i in range(len(batches)):\n",
    "\n",
    "            jobs.append(threading.Thread(target=func,args=[batches[i]]))\n",
    "            \n",
    "        return jobs\n",
    "\n",
    "    def _multithreadExecute(self,jobs):\n",
    "        \n",
    "        \"\"\"executes the multi-threadding loop\"\"\"\n",
    "\n",
    "        # Start the threads\n",
    "        for j in jobs:\n",
    "    \n",
    "            j.start()\n",
    "\n",
    "        # Ensure all of the threads have finished\n",
    "        for j in jobs:\n",
    "            j.join()\n",
    "        return\n",
    "    \n",
    "    def _getpageUrls(self,url):\n",
    "        \n",
    "        \"\"\"Gets all the links from an artist page\"\"\"\n",
    "     \n",
    "        html = self._get_html(url) #gets html for current page\n",
    "        \n",
    "        songs = html.find_all('h2',{'class':'media-card-title'}) #element for song\n",
    "        \n",
    "        #loop through and extract urls for all songs in soup object\n",
    "        song_urls = ['https://www.musixmatch.com'+i.find('a')['href'] for i in songs] \n",
    "        \n",
    "        #return list of song urls\n",
    "        return [i for i in song_urls if 'album' not in i]\n",
    "\n",
    "\n",
    "    def _getLyrics(self,song_url):\n",
    "        \n",
    "        \"\"\"Extracts lyrics from a song url. Duplicated lines are removed e.g. chorus lines\n",
    "        Only unique lyrics are returned\"\"\"\n",
    "    \n",
    "        html = self._get_html(song_url) #get html for current page\n",
    "\n",
    "        #find all elements containing lyrics\n",
    "        element = html.find_all('span',{'class':'lyrics__content__ok'})\n",
    "\n",
    "        #numbe of elements to loop through\n",
    "        element_loop = len(element)\n",
    "\n",
    "        song_lyrics = [] #empty list for song lyrics\n",
    "\n",
    "        #extract song lyrics\n",
    "        song_lyrics_raw = [element[i].text.split('\\n') for i in range(element_loop)]\n",
    "\n",
    "        #flatten list of lists\n",
    "        song_lyrics_raw = [i for sublist in song_lyrics_raw for i in sublist]\n",
    "\n",
    "        #retain only unique lines in lyrics\n",
    "        song_lyrics.extend(list(dict.fromkeys(song_lyrics_raw)))\n",
    "\n",
    "        #join list and remove empty elements\n",
    "        song_lyrics = ' '.join([i for i in song_lyrics if len(i) >0])\n",
    "\n",
    "        return song_lyrics #return song lyrics\n",
    "    \n",
    "    def _getAllpageUrls(self,target=50):\n",
    "        \n",
    "        \"\"\"Generates page urls for artist. There are 15 songs on each page\"\"\"\n",
    "        \n",
    "        loops = int(target/15) #specifcy how many loops needed\n",
    "        \n",
    "        #generate urls\n",
    "        artist_urls = [self.artist_url+'/'+str(i+1) for i in range(loops)]\n",
    "        \n",
    "        all_song_urls = [] #empty list for all song urls\n",
    "        \n",
    "        for i in artist_urls: #loop through and get all song urls for all pages\n",
    "            \n",
    "            all_song_urls.extend(self._getpageUrls(i))\n",
    "        \n",
    "        return all_song_urls\n",
    "              \n",
    "    def _extractData(self,all_song_urls):\n",
    "        \n",
    "        \"\"\"Extracts data from all song urls\"\"\"\n",
    "    \n",
    "        for i in tqdm_notebook(range(len(all_song_urls))): #loop through all song urls\n",
    "            \n",
    "            try:\n",
    "                #get lyrics\n",
    "                song_lyrics = self._getLyrics(all_song_urls[i])\n",
    "                \n",
    "                #get song title\n",
    "                song_title = all_song_urls[i].split('/')[-1]\n",
    "\n",
    "                #create DataFrame\n",
    "                song_df = pd.DataFrame([(self.artist,song_title,song_lyrics)],columns=['artist','song','lyrics'])\n",
    "                \n",
    "                #append DataFrame to master list\n",
    "                self.song_l.append(song_df)\n",
    "            \n",
    "            except:\n",
    "                pass\n",
    "\n",
    "        return \n",
    "    \n",
    "    def Run(self,target):\n",
    "        \n",
    "        \"\"\"Executes all methods above\"\"\"\n",
    "       \n",
    "        self.all_song_urls = self._getAllpageUrls(target) #get page URL's to get target number of songs\n",
    "\n",
    "        #multi-threaded scraping of all song urls\n",
    "        self._multithreadExecute(self._multithreadCompile(5,self.all_song_urls,self._extractData))\n",
    "\n",
    "        try:\n",
    "            df_final = pd.concat([i for i in self.song_l]) #concatenate all song Df's\n",
    "\n",
    "            df_final.reset_index(drop=True,inplace=True) #reset index\n",
    "            \n",
    "            self.df = df_final[df_final.lyrics.str.len() > 0] #drop any songs with no lyrics or failed scrapes\n",
    "\n",
    "            self.df['genre'] = self.genre_label\n",
    "            \n",
    "            return self.df\n",
    "\n",
    "        except:\n",
    "            pass\n",
    "            return"
   ]
  },
  {
   "cell_type": "code",
   "execution_count": 49,
   "id": "4130bb0d-5b8a-48db-a065-e52996e05dd2",
   "metadata": {},
   "outputs": [
    {
     "name": "stderr",
     "output_type": "stream",
     "text": [
      "/Users/philip/opt/anaconda3/lib/python3.7/site-packages/ipykernel_launcher.py:130: TqdmDeprecationWarning: This function will be removed in tqdm==5.0.0\n",
      "Please use `tqdm.notebook.tqdm` instead of `tqdm.tqdm_notebook`\n"
     ]
    },
    {
     "data": {
      "application/vnd.jupyter.widget-view+json": {
       "model_id": "59e7abf8ba9941b3aa4e3f961471826b",
       "version_major": 2,
       "version_minor": 0
      },
      "text/plain": [
       "0it [00:00, ?it/s]"
      ]
     },
     "metadata": {},
     "output_type": "display_data"
    },
    {
     "data": {
      "application/vnd.jupyter.widget-view+json": {
       "model_id": "a995f0b2384b452398832e201ec7ade5",
       "version_major": 2,
       "version_minor": 0
      },
      "text/plain": [
       "0it [00:00, ?it/s]"
      ]
     },
     "metadata": {},
     "output_type": "display_data"
    },
    {
     "data": {
      "application/vnd.jupyter.widget-view+json": {
       "model_id": "78fae4e4403645fda747e4d767e3b9a2",
       "version_major": 2,
       "version_minor": 0
      },
      "text/plain": [
       "0it [00:00, ?it/s]"
      ]
     },
     "metadata": {},
     "output_type": "display_data"
    },
    {
     "data": {
      "application/vnd.jupyter.widget-view+json": {
       "model_id": "d9ba7bdeeebf4d47a6de9749de52635a",
       "version_major": 2,
       "version_minor": 0
      },
      "text/plain": [
       "0it [00:00, ?it/s]"
      ]
     },
     "metadata": {},
     "output_type": "display_data"
    },
    {
     "data": {
      "application/vnd.jupyter.widget-view+json": {
       "model_id": "a81707614b8041be941bbd4170836c90",
       "version_major": 2,
       "version_minor": 0
      },
      "text/plain": [
       "0it [00:00, ?it/s]"
      ]
     },
     "metadata": {},
     "output_type": "display_data"
    },
    {
     "ename": "AttributeError",
     "evalue": "'MusixmatchScraper' object has no attribute 'df'",
     "output_type": "error",
     "traceback": [
      "\u001b[0;31m---------------------------------------------------------------------------\u001b[0m",
      "\u001b[0;31mAttributeError\u001b[0m                            Traceback (most recent call last)",
      "\u001b[0;32m/var/folders/f2/wxwp9zk96mn2jg7jc6hjvxbh0000gn/T/ipykernel_50747/1025123681.py\u001b[0m in \u001b[0;36m<module>\u001b[0;34m\u001b[0m\n\u001b[1;32m     15\u001b[0m \u001b[0;34m\u001b[0m\u001b[0m\n\u001b[1;32m     16\u001b[0m     \u001b[0;31m#append to bulk lyrics\u001b[0m\u001b[0;34m\u001b[0m\u001b[0;34m\u001b[0m\u001b[0;34m\u001b[0m\u001b[0m\n\u001b[0;32m---> 17\u001b[0;31m     \u001b[0mbulk_lyrics\u001b[0m\u001b[0;34m.\u001b[0m\u001b[0mappend\u001b[0m\u001b[0;34m(\u001b[0m\u001b[0mscraper\u001b[0m\u001b[0;34m.\u001b[0m\u001b[0mdf\u001b[0m\u001b[0;34m)\u001b[0m\u001b[0;34m\u001b[0m\u001b[0;34m\u001b[0m\u001b[0m\n\u001b[0m\u001b[1;32m     18\u001b[0m \u001b[0;34m\u001b[0m\u001b[0m\n\u001b[1;32m     19\u001b[0m \u001b[0;31m#concatenate list of DataFrame's to one DataFrame\u001b[0m\u001b[0;34m\u001b[0m\u001b[0;34m\u001b[0m\u001b[0;34m\u001b[0m\u001b[0m\n",
      "\u001b[0;31mAttributeError\u001b[0m: 'MusixmatchScraper' object has no attribute 'df'"
     ]
    }
   ],
   "source": [
    "#empty list for bulk lyrics\n",
    "bulk_lyrics = []\n",
    "\n",
    "#band/artist urls and genres - as tuples\n",
    "bands = [('https://www.musixmatch.com/artist/December-Avenue','alternative'),\n",
    "         ('https://www.musixmatch.com/artist/Clara-Benin','indie')]\n",
    "#loop through each band\n",
    "for band in bands:\n",
    "    \n",
    "    #instantate class for band using url and genre label\n",
    "    scraper = MusixmatchScraper(band[0],genre_label=band[1])\n",
    "    \n",
    "    #run scraper and set target number of songs to scrape\n",
    "    scraper.Run(target=60)\n",
    "    \n",
    "    #append to bulk lyrics\n",
    "    bulk_lyrics.append(scraper.df)\n",
    "    \n",
    "#concatenate list of DataFrame's to one DataFrame\n",
    "df = pd.concat([i for i in bulk_lyrics])"
   ]
  },
  {
   "cell_type": "code",
   "execution_count": 48,
   "id": "17ac59ea-0adb-4b5e-b7f3-075295c06382",
   "metadata": {},
   "outputs": [
    {
     "data": {
      "text/html": [
       "<div>\n",
       "<style scoped>\n",
       "    .dataframe tbody tr th:only-of-type {\n",
       "        vertical-align: middle;\n",
       "    }\n",
       "\n",
       "    .dataframe tbody tr th {\n",
       "        vertical-align: top;\n",
       "    }\n",
       "\n",
       "    .dataframe thead th {\n",
       "        text-align: right;\n",
       "    }\n",
       "</style>\n",
       "<table border=\"1\" class=\"dataframe\">\n",
       "  <thead>\n",
       "    <tr style=\"text-align: right;\">\n",
       "      <th></th>\n",
       "      <th>artist</th>\n",
       "      <th>song</th>\n",
       "      <th>lyrics</th>\n",
       "      <th>genre</th>\n",
       "    </tr>\n",
       "  </thead>\n",
       "  <tbody>\n",
       "    <tr>\n",
       "      <th>3</th>\n",
       "      <td>Jack-Johnson</td>\n",
       "      <td>In-the-Morning</td>\n",
       "      <td>So much love The kids are laughing in their sl...</td>\n",
       "      <td>folk</td>\n",
       "    </tr>\n",
       "    <tr>\n",
       "      <th>4</th>\n",
       "      <td>Jack-Johnson</td>\n",
       "      <td>Banana-Pancakes</td>\n",
       "      <td>Can't you see that it's just raining Ain't no ...</td>\n",
       "      <td>folk</td>\n",
       "    </tr>\n",
       "    <tr>\n",
       "      <th>5</th>\n",
       "      <td>Jack-Johnson</td>\n",
       "      <td>Times-Like-These-Santa-Barbara-CA</td>\n",
       "      <td>In times like these And times like those What ...</td>\n",
       "      <td>folk</td>\n",
       "    </tr>\n",
       "    <tr>\n",
       "      <th>7</th>\n",
       "      <td>Jack-Johnson</td>\n",
       "      <td>Better-Together</td>\n",
       "      <td>There is no combination of words I could put o...</td>\n",
       "      <td>folk</td>\n",
       "    </tr>\n",
       "    <tr>\n",
       "      <th>11</th>\n",
       "      <td>Jack-Johnson</td>\n",
       "      <td>The-Captain-Is-Drunk</td>\n",
       "      <td>Hey, what do I do If the captain is drunk And ...</td>\n",
       "      <td>folk</td>\n",
       "    </tr>\n",
       "  </tbody>\n",
       "</table>\n",
       "</div>"
      ],
      "text/plain": [
       "          artist                               song  \\\n",
       "3   Jack-Johnson                     In-the-Morning   \n",
       "4   Jack-Johnson                    Banana-Pancakes   \n",
       "5   Jack-Johnson  Times-Like-These-Santa-Barbara-CA   \n",
       "7   Jack-Johnson                    Better-Together   \n",
       "11  Jack-Johnson               The-Captain-Is-Drunk   \n",
       "\n",
       "                                               lyrics genre  \n",
       "3   So much love The kids are laughing in their sl...  folk  \n",
       "4   Can't you see that it's just raining Ain't no ...  folk  \n",
       "5   In times like these And times like those What ...  folk  \n",
       "7   There is no combination of words I could put o...  folk  \n",
       "11  Hey, what do I do If the captain is drunk And ...  folk  "
      ]
     },
     "execution_count": 48,
     "metadata": {},
     "output_type": "execute_result"
    }
   ],
   "source": [
    "df.head()"
   ]
  },
  {
   "cell_type": "code",
   "execution_count": 62,
   "id": "92e35c2c-6709-4877-b14f-af5e018ddfff",
   "metadata": {},
   "outputs": [],
   "source": [
    "scraper = MusixmatchScraper('https://www.musixmatch.com/artist/December-Avenue','indie')"
   ]
  },
  {
   "cell_type": "code",
   "execution_count": 63,
   "id": "e1f50370-ba18-49b5-89cc-bbef29303ca3",
   "metadata": {},
   "outputs": [
    {
     "name": "stderr",
     "output_type": "stream",
     "text": [
      "/Users/philip/opt/anaconda3/lib/python3.7/site-packages/ipykernel_launcher.py:130: TqdmDeprecationWarning: This function will be removed in tqdm==5.0.0\n",
      "Please use `tqdm.notebook.tqdm` instead of `tqdm.tqdm_notebook`\n"
     ]
    },
    {
     "data": {
      "application/vnd.jupyter.widget-view+json": {
       "model_id": "f64b229ab3024c81a4e29604de759f99",
       "version_major": 2,
       "version_minor": 0
      },
      "text/plain": [
       "0it [00:00, ?it/s]"
      ]
     },
     "metadata": {},
     "output_type": "display_data"
    },
    {
     "data": {
      "application/vnd.jupyter.widget-view+json": {
       "model_id": "9660124ead9d4952a1ac93f8183d09b0",
       "version_major": 2,
       "version_minor": 0
      },
      "text/plain": [
       "0it [00:00, ?it/s]"
      ]
     },
     "metadata": {},
     "output_type": "display_data"
    },
    {
     "data": {
      "application/vnd.jupyter.widget-view+json": {
       "model_id": "27ce34dca11f4d58af2e1e78d78d7112",
       "version_major": 2,
       "version_minor": 0
      },
      "text/plain": [
       "0it [00:00, ?it/s]"
      ]
     },
     "metadata": {},
     "output_type": "display_data"
    },
    {
     "data": {
      "application/vnd.jupyter.widget-view+json": {
       "model_id": "e856d59cc4804518bdd9816950c6eb30",
       "version_major": 2,
       "version_minor": 0
      },
      "text/plain": [
       "0it [00:00, ?it/s]"
      ]
     },
     "metadata": {},
     "output_type": "display_data"
    },
    {
     "data": {
      "application/vnd.jupyter.widget-view+json": {
       "model_id": "978d26958ab1454eb6947916619eaa69",
       "version_major": 2,
       "version_minor": 0
      },
      "text/plain": [
       "0it [00:00, ?it/s]"
      ]
     },
     "metadata": {},
     "output_type": "display_data"
    }
   ],
   "source": [
    "scraper.Run(target=100)"
   ]
  },
  {
   "cell_type": "code",
   "execution_count": 60,
   "id": "c4b217a3-f40a-484f-8803-e794e6ac9c90",
   "metadata": {},
   "outputs": [
    {
     "data": {
      "text/html": [
       "<div>\n",
       "<style scoped>\n",
       "    .dataframe tbody tr th:only-of-type {\n",
       "        vertical-align: middle;\n",
       "    }\n",
       "\n",
       "    .dataframe tbody tr th {\n",
       "        vertical-align: top;\n",
       "    }\n",
       "\n",
       "    .dataframe thead th {\n",
       "        text-align: right;\n",
       "    }\n",
       "</style>\n",
       "<table border=\"1\" class=\"dataframe\">\n",
       "  <thead>\n",
       "    <tr style=\"text-align: right;\">\n",
       "      <th></th>\n",
       "      <th>artist</th>\n",
       "      <th>song</th>\n",
       "      <th>lyrics</th>\n",
       "      <th>genre</th>\n",
       "    </tr>\n",
       "  </thead>\n",
       "  <tbody>\n",
       "    <tr>\n",
       "      <th>0</th>\n",
       "      <td>Clara-Benin</td>\n",
       "      <td>Human-Eyes</td>\n",
       "      <td>Bright lights, grey skies, city arcades Hidden...</td>\n",
       "      <td>indie</td>\n",
       "    </tr>\n",
       "    <tr>\n",
       "      <th>9</th>\n",
       "      <td>Clara-Benin</td>\n",
       "      <td>Fallin-Feat-Clara-Benin</td>\n",
       "      <td>Feels right but I am barely closer As I wait i...</td>\n",
       "      <td>indie</td>\n",
       "    </tr>\n",
       "    <tr>\n",
       "      <th>11</th>\n",
       "      <td>Clara-Benin</td>\n",
       "      <td>Umami</td>\n",
       "      <td>Don't need a map, don't need to pin location D...</td>\n",
       "      <td>indie</td>\n",
       "    </tr>\n",
       "  </tbody>\n",
       "</table>\n",
       "</div>"
      ],
      "text/plain": [
       "         artist                     song  \\\n",
       "0   Clara-Benin               Human-Eyes   \n",
       "9   Clara-Benin  Fallin-Feat-Clara-Benin   \n",
       "11  Clara-Benin                    Umami   \n",
       "\n",
       "                                               lyrics  genre  \n",
       "0   Bright lights, grey skies, city arcades Hidden...  indie  \n",
       "9   Feels right but I am barely closer As I wait i...  indie  \n",
       "11  Don't need a map, don't need to pin location D...  indie  "
      ]
     },
     "execution_count": 60,
     "metadata": {},
     "output_type": "execute_result"
    }
   ],
   "source": [
    "scraper.df"
   ]
  },
  {
   "cell_type": "code",
   "execution_count": null,
   "id": "3d4acf76-b7c5-43b7-8c74-8d45c26733d3",
   "metadata": {},
   "outputs": [],
   "source": []
  },
  {
   "cell_type": "code",
   "execution_count": null,
   "id": "bf8ff891-a420-48c2-9921-5624e9cbaa2b",
   "metadata": {},
   "outputs": [],
   "source": []
  }
 ],
 "metadata": {
  "kernelspec": {
   "display_name": "Python 3 (ipykernel)",
   "language": "python",
   "name": "python3"
  },
  "language_info": {
   "codemirror_mode": {
    "name": "ipython",
    "version": 3
   },
   "file_extension": ".py",
   "mimetype": "text/x-python",
   "name": "python",
   "nbconvert_exporter": "python",
   "pygments_lexer": "ipython3",
   "version": "3.7.4"
  }
 },
 "nbformat": 4,
 "nbformat_minor": 5
}
