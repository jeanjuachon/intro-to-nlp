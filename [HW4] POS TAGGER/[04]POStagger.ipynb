{
 "cells": [
  {
   "cell_type": "code",
   "execution_count": 2,
   "metadata": {},
   "outputs": [],
   "source": [
    "#from stanfordcorenlp import StanfordCoreNLP\n",
    "from nltk.tag import StanfordPOSTagger"
   ]
  },
  {
   "cell_type": "code",
   "execution_count": 3,
   "metadata": {},
   "outputs": [],
   "source": [
    "# jar = \"/Users/philip/Desktop/Filipino-Stanford-Part-of-Speech-Tagger/stanford-postagger.jar\"\n",
    "jar = \"/Users/philip/Desktop/intro-to-nlp/[HW4] POS TAGGER/stanford-postagger.jar\"\n",
    "model = \"/Users/philip/Desktop/intro-to-nlp/[HW4] POS TAGGER/filipino-left5words-owlqn2-distsim-pref6-inf2.tagger\""
   ]
  },
  {
   "cell_type": "code",
   "execution_count": 4,
   "metadata": {},
   "outputs": [],
   "source": [
    "pos_tagger = StanfordPOSTagger(model, jar, encoding = \"UTF-8\")\n",
    "#, encoding='utf8'"
   ]
  },
  {
   "cell_type": "markdown",
   "metadata": {},
   "source": [
    "model"
   ]
  },
  {
   "cell_type": "code",
   "execution_count": 5,
   "metadata": {},
   "outputs": [
    {
     "data": {
      "text/plain": [
       "\u001b[0;31mType:\u001b[0m        StanfordPOSTagger\n",
       "\u001b[0;31mString form:\u001b[0m <nltk.tag.stanford.StanfordPOSTagger object at 0x7fec1d4c3450>\n",
       "\u001b[0;31mFile:\u001b[0m        ~/opt/anaconda3/lib/python3.7/site-packages/nltk/tag/stanford.py\n",
       "\u001b[0;31mDocstring:\u001b[0m  \n",
       "A class for pos tagging with Stanford Tagger. The input is the paths to:\n",
       " - a model trained on training data\n",
       " - (optionally) the path to the stanford tagger jar file. If not specified here,\n",
       "   then this jar file must be specified in the CLASSPATH envinroment variable.\n",
       " - (optionally) the encoding of the training data (default: UTF-8)\n",
       "\n",
       "Example:\n",
       "\n",
       "    >>> from nltk.tag import StanfordPOSTagger\n",
       "    >>> st = StanfordPOSTagger('english-bidirectional-distsim.tagger')\n",
       "    >>> st.tag('What is the airspeed of an unladen swallow ?'.split())\n",
       "    [('What', 'WP'), ('is', 'VBZ'), ('the', 'DT'), ('airspeed', 'NN'), ('of', 'IN'), ('an', 'DT'), ('unladen', 'JJ'), ('swallow', 'VB'), ('?', '.')]\n"
      ]
     },
     "metadata": {},
     "output_type": "display_data"
    }
   ],
   "source": [
    "pos_tagger?"
   ]
  },
  {
   "cell_type": "code",
   "execution_count": 6,
   "metadata": {},
   "outputs": [
    {
     "data": {
      "text/plain": [
       "[('', 'Kahit|CCT'),\n",
       " ('', 'maputi|JJD'),\n",
       " ('', 'na|CCP'),\n",
       " ('', 'ang|DTC'),\n",
       " ('', 'buhok|NNC'),\n",
       " ('', 'ko|PRS')]"
      ]
     },
     "execution_count": 6,
     "metadata": {},
     "output_type": "execute_result"
    }
   ],
   "source": [
    "pos_tagger.tag('Kahit maputi na ang buhok ko'.split())"
   ]
  },
  {
   "cell_type": "markdown",
   "metadata": {},
   "source": [
    "## Demo Day 08/31/2021"
   ]
  },
  {
   "cell_type": "code",
   "execution_count": 16,
   "metadata": {},
   "outputs": [
    {
     "data": {
      "text/plain": [
       "[('', 'Pumunta|VBAF'),\n",
       " ('', 'sa|CCT'),\n",
       " ('', 'palengke|NNC'),\n",
       " ('', 'ang|DTC'),\n",
       " ('', 'Hapon.|NNPA')]"
      ]
     },
     "execution_count": 16,
     "metadata": {},
     "output_type": "execute_result"
    }
   ],
   "source": [
    "pos_tagger.tag(\"Pumunta sa palengke ang Hapon.\".split())"
   ]
  },
  {
   "cell_type": "code",
   "execution_count": 13,
   "metadata": {},
   "outputs": [
    {
     "data": {
      "text/plain": [
       "[('', 'Pumunta|VBAF'),\n",
       " ('', 'sa|CCT'),\n",
       " ('', 'palengke|NNC'),\n",
       " ('', 'ang|DTC'),\n",
       " ('', 'Hapon|NNP'),\n",
       " ('kaninang|NNC', 'CCP'),\n",
       " ('', 'hapon.|NNC')]"
      ]
     },
     "execution_count": 13,
     "metadata": {},
     "output_type": "execute_result"
    }
   ],
   "source": [
    "pos_tagger.tag(\"Pumunta sa palengke ang Hapon kaninang hapon.\".split())"
   ]
  },
  {
   "cell_type": "code",
   "execution_count": 17,
   "metadata": {},
   "outputs": [
    {
     "data": {
      "text/plain": [
       "[('', 'Hapong-hapo|JJD'),\n",
       " ('', 'ang|DTC'),\n",
       " ('', 'Hapon|NNP'),\n",
       " ('', 'na|CCP'),\n",
       " ('', 'pumunta|VBAF'),\n",
       " ('', 'sa|CCT'),\n",
       " ('', 'palengke|NNC'),\n",
       " ('', 'kaninang|RBW'),\n",
       " ('', 'hapon|RBW')]"
      ]
     },
     "execution_count": 17,
     "metadata": {},
     "output_type": "execute_result"
    }
   ],
   "source": [
    "pos_tagger.tag(\"Hapong-hapo ang Hapon na pumunta sa palengke kaninang hapon\".split())"
   ]
  },
  {
   "cell_type": "code",
   "execution_count": null,
   "metadata": {},
   "outputs": [],
   "source": []
  }
 ],
 "metadata": {
  "kernelspec": {
   "display_name": "Python 3",
   "language": "python",
   "name": "python3"
  },
  "language_info": {
   "codemirror_mode": {
    "name": "ipython",
    "version": 3
   },
   "file_extension": ".py",
   "mimetype": "text/x-python",
   "name": "python",
   "nbconvert_exporter": "python",
   "pygments_lexer": "ipython3",
   "version": "3.7.4"
  }
 },
 "nbformat": 4,
 "nbformat_minor": 4
}
